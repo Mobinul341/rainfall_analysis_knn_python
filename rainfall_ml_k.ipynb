{
 "cells": [
  {
   "cell_type": "markdown",
   "metadata": {},
   "source": [
    "# Rainfall classification applying KNN Algorithm"
   ]
  },
  {
   "cell_type": "markdown",
   "metadata": {},
   "source": [
    "## Md. Mobinul Islam, \n",
    "## ID- 201900202066"
   ]
  },
  {
   "cell_type": "markdown",
   "metadata": {},
   "source": [
    "**Let’s start the programming by importing essential libraries"
   ]
  },
  {
   "cell_type": "code",
   "execution_count": 1,
   "metadata": {},
   "outputs": [],
   "source": [
    "import numpy as np\n",
    "import matplotlib.pyplot as plt\n",
    "import pandas as pd\n",
    "import sklearn"
   ]
  },
  {
   "cell_type": "markdown",
   "metadata": {},
   "source": [
    "**Importing of the dataset and slicing it into independent and dependent variables"
   ]
  },
  {
   "cell_type": "code",
   "execution_count": 2,
   "metadata": {},
   "outputs": [],
   "source": [
    "df = pd.read_excel('C:/Users/kptech/Downloads/rainfall_data.xlsx')"
   ]
  },
  {
   "cell_type": "code",
   "execution_count": 3,
   "metadata": {},
   "outputs": [],
   "source": [
    "X = df.iloc[:, [1, 2, 3]].values\n",
    "y = df.iloc[:, -1].values"
   ]
  },
  {
   "cell_type": "markdown",
   "metadata": {},
   "source": [
    "**Since our dataset containing character variables we have to encode it using LabelEncoder"
   ]
  },
  {
   "cell_type": "code",
   "execution_count": 4,
   "metadata": {},
   "outputs": [],
   "source": [
    "from sklearn.preprocessing import LabelEncoder\n",
    "le = LabelEncoder()\n",
    "X[:,0] = le.fit_transform(X[:,0])"
   ]
  },
  {
   "cell_type": "markdown",
   "metadata": {},
   "source": [
    "**We are performing a train test split on the dataset. We are providing the test size as 0.20, that means our training sample contains 512 training set and test sample contains 128 test set"
   ]
  },
  {
   "cell_type": "code",
   "execution_count": 5,
   "metadata": {},
   "outputs": [],
   "source": [
    "from sklearn.model_selection import train_test_split\n",
    "X_train, X_test, y_train, y_test = train_test_split(X, y, test_size = 0.20, random_state = 0)"
   ]
  },
  {
   "cell_type": "markdown",
   "metadata": {},
   "source": [
    "**Next, we are doing feature scaling to the training and test set of independent variables for reducing the size to smaller values"
   ]
  },
  {
   "cell_type": "code",
   "execution_count": 6,
   "metadata": {},
   "outputs": [],
   "source": [
    "from sklearn.preprocessing import StandardScaler\n",
    "sc = StandardScaler()\n",
    "X_train = sc.fit_transform(X_train)\n",
    "X_test = sc.transform(X_test)"
   ]
  },
  {
   "cell_type": "markdown",
   "metadata": {},
   "source": [
    "**Now we have to create and train the K Nearest Neighbor model with the training set"
   ]
  },
  {
   "cell_type": "code",
   "execution_count": 13,
   "metadata": {},
   "outputs": [
    {
     "data": {
      "text/plain": [
       "KNeighborsClassifier(n_neighbors=3)"
      ]
     },
     "execution_count": 13,
     "metadata": {},
     "output_type": "execute_result"
    }
   ],
   "source": [
    "from sklearn.neighbors import KNeighborsClassifier\n",
    "classifier = KNeighborsClassifier(n_neighbors = 3, metric = 'minkowski', p = 2)\n",
    "clf = classifier.fit(X_train, y_train)\n",
    "clf"
   ]
  },
  {
   "cell_type": "markdown",
   "metadata": {},
   "source": [
    "**We are using 3 parameters in the model creation. n_neighbors is setting as 5, which means 5 neighborhood points are required for classifying a given point. The distance metric we are using is Minkowski, the equation for it is given below\n",
    "\n",
    "\n",
    "\n",
    "\n",
    "\n",
    "\n",
    "As per the equation, we have to select the p-value also.\n",
    "p = 1 , Manhattan Distance\n",
    "p = 2 , Euclidean Distance\n",
    "p = infinity , Cheybchev Distance\n",
    "In our problem, we are choosing the p as 2 (also u can choose the metric as “euclidean”)\n",
    "Our Model is created, now we have to predict the output for the test set\n"
   ]
  },
  {
   "cell_type": "markdown",
   "metadata": {},
   "source": [
    "#### Comparing true and predicted value :"
   ]
  },
  {
   "cell_type": "code",
   "execution_count": 14,
   "metadata": {},
   "outputs": [
    {
     "data": {
      "text/plain": [
       "array(['LTR', 'NRT', 'LTR', 'NRT', 'MHR', 'MHR', 'MHR', 'LTR', 'NRT',\n",
       "       'LTR', 'MHR', 'MHR', 'MHR', 'NRT', 'LTR', 'NRT', 'MHR', 'NRT',\n",
       "       'LTR', 'LTR', 'NRT', 'MHR', 'NRT', 'NRT', 'LTR', 'LTR', 'LTR',\n",
       "       'LTR', 'NRT', 'LTR', 'LTR', 'MHR', 'LTR', 'LTR', 'MHR', 'NRT',\n",
       "       'NRT', 'MHR', 'NRT', 'MHR', 'LTR', 'NRT', 'NRT', 'LTR', 'NRT',\n",
       "       'MHR', 'MHR', 'LTR', 'NRT', 'LTR', 'NRT', 'MHR', 'MHR', 'MHR',\n",
       "       'LTR', 'NRT', 'NRT', 'MHR', 'MHR', 'NRT', 'NRT', 'NRT', 'MHR',\n",
       "       'MHR', 'NRT', 'MHR', 'MHR', 'MHR', 'MHR', 'LTR', 'NRT', 'MHR',\n",
       "       'MHR', 'NRT', 'LTR', 'NRT', 'LTR', 'MHR', 'LTR', 'LTR', 'NRT',\n",
       "       'NRT', 'MHR', 'NRT', 'LTR', 'MHR', 'NRT', 'LTR', 'MHR', 'MHR',\n",
       "       'LTR', 'NRT', 'NRT', 'NRT', 'LTR', 'MHR', 'NRT', 'NRT', 'NRT',\n",
       "       'MHR', 'LTR', 'LTR', 'MHR', 'MHR', 'LTR', 'MHR', 'MHR', 'MHR',\n",
       "       'LTR', 'NRT', 'MHR', 'LTR', 'LTR', 'LTR', 'MHR', 'LTR', 'MHR',\n",
       "       'LTR', 'LTR', 'MHR', 'LTR', 'LTR', 'NRT', 'LTR', 'LTR'],\n",
       "      dtype=object)"
      ]
     },
     "execution_count": 14,
     "metadata": {},
     "output_type": "execute_result"
    }
   ],
   "source": [
    "y_pred = classifier.predict(X_test)\n",
    "y_pred"
   ]
  },
  {
   "cell_type": "markdown",
   "metadata": {},
   "source": [
    "#### We can evaluate our model using the confusion matrix and accuracy score by comparing the predicted and actual test values"
   ]
  },
  {
   "cell_type": "code",
   "execution_count": 15,
   "metadata": {},
   "outputs": [],
   "source": [
    "from sklearn.metrics import confusion_matrix,accuracy_score\n",
    "cm = confusion_matrix(y_test, y_pred)\n",
    "ac = accuracy_score(y_test,y_pred)"
   ]
  },
  {
   "cell_type": "markdown",
   "metadata": {},
   "source": [
    "##### confusion matrix "
   ]
  },
  {
   "cell_type": "code",
   "execution_count": 16,
   "metadata": {},
   "outputs": [
    {
     "data": {
      "text/plain": [
       "array([[26,  3, 12],\n",
       "       [10, 39,  0],\n",
       "       [ 7,  1, 27]], dtype=int64)"
      ]
     },
     "execution_count": 16,
     "metadata": {},
     "output_type": "execute_result"
    }
   ],
   "source": [
    "cm"
   ]
  },
  {
   "cell_type": "markdown",
   "metadata": {},
   "source": [
    "##### Accuracy 73.6%"
   ]
  },
  {
   "cell_type": "code",
   "execution_count": 17,
   "metadata": {},
   "outputs": [
    {
     "data": {
      "text/plain": [
       "0.736"
      ]
     },
     "execution_count": 17,
     "metadata": {},
     "output_type": "execute_result"
    }
   ],
   "source": [
    "ac"
   ]
  },
  {
   "cell_type": "markdown",
   "metadata": {},
   "source": [
    "#### Confusion Matrix plot"
   ]
  },
  {
   "cell_type": "code",
   "execution_count": 18,
   "metadata": {},
   "outputs": [
    {
     "data": {
      "text/plain": [
       "<AxesSubplot:>"
      ]
     },
     "execution_count": 18,
     "metadata": {},
     "output_type": "execute_result"
    },
    {
     "data": {
      "image/png": "[encoded data removed]",
      "text/plain": [
       "<Figure size 432x288 with 2 Axes>"
      ]
     },
     "metadata": {
      "needs_background": "light"
     },
     "output_type": "display_data"
    }
   ],
   "source": [
    "import seaborn as sns\n",
    "sns.heatmap(cm, annot=True)"
   ]
  },
  {
   "cell_type": "markdown",
   "metadata": {},
   "source": [
    "#### Conclusion- Here we can see that our accuracy is 73.6% which means our prediction is good but we need to classify it more for better precision. "
   ]
  }
 ],
 "metadata": {
  "kernelspec": {
   "display_name": "Python 3",
   "language": "python",
   "name": "python3"
  },
  "language_info": {
   "codemirror_mode": {
    "name": "ipython",
    "version": 3
   },
   "file_extension": ".py",
   "mimetype": "text/x-python",
   "name": "python",
   "nbconvert_exporter": "python",
   "pygments_lexer": "ipython3",
   "version": "3.8.5"
  }
 },
 "nbformat": 4,
 "nbformat_minor": 4
}
